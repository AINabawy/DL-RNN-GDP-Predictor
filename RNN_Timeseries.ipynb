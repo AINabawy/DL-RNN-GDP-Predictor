{
  "cells": [
    {
      "cell_type": "markdown",
      "metadata": {
        "id": "w5prHUy8pPUB"
      },
      "source": [
        "<div style=\"width: 100%; overflow: hidden;\">\n",
        "    <div style=\"width: 150px; float: left;\"> </div>\n",
        "    <div style=\"float: left; margin-left: 10px;\"> \n",
        "        <h1>RNNs for Timeseries Analysis</h1>\n",
        "        <h2>Recurrent Neural Networks Lab</h2>\n",
        "\n",
        "</div>"
      ]
    },
    {
      "cell_type": "code",
      "execution_count": 2,
      "metadata": {
        "colab": {
          "base_uri": "https://localhost:8080/",
          "height": 373
        },
        "id": "-43E2f-npPUS",
        "outputId": "342d87a7-e101-47e6-df43-ff7bd291b1f9"
      },
      "outputs": [
        {
          "output_type": "error",
          "ename": "ModuleNotFoundError",
          "evalue": "ignored",
          "traceback": [
            "\u001b[0;31m---------------------------------------------------------------------------\u001b[0m",
            "\u001b[0;31mModuleNotFoundError\u001b[0m                       Traceback (most recent call last)",
            "\u001b[0;32m<ipython-input-2-e0bca0efb4cb>\u001b[0m in \u001b[0;36m<module>\u001b[0;34m\u001b[0m\n\u001b[1;32m     16\u001b[0m \u001b[0;32mfrom\u001b[0m \u001b[0msklearn\u001b[0m\u001b[0;34m.\u001b[0m\u001b[0mmetrics\u001b[0m \u001b[0;32mimport\u001b[0m \u001b[0mmean_squared_error\u001b[0m\u001b[0;34m\u001b[0m\u001b[0;34m\u001b[0m\u001b[0m\n\u001b[1;32m     17\u001b[0m \u001b[0;34m\u001b[0m\u001b[0m\n\u001b[0;32m---> 18\u001b[0;31m \u001b[0;32mimport\u001b[0m \u001b[0mwatermark\u001b[0m\u001b[0;34m\u001b[0m\u001b[0;34m\u001b[0m\u001b[0m\n\u001b[0m\u001b[1;32m     19\u001b[0m \u001b[0;34m\u001b[0m\u001b[0m\n\u001b[1;32m     20\u001b[0m \u001b[0mget_ipython\u001b[0m\u001b[0;34m(\u001b[0m\u001b[0;34m)\u001b[0m\u001b[0;34m.\u001b[0m\u001b[0mrun_line_magic\u001b[0m\u001b[0;34m(\u001b[0m\u001b[0;34m'load_ext'\u001b[0m\u001b[0;34m,\u001b[0m \u001b[0;34m'watermark'\u001b[0m\u001b[0;34m)\u001b[0m\u001b[0;34m\u001b[0m\u001b[0;34m\u001b[0m\u001b[0m\n",
            "\u001b[0;31mModuleNotFoundError\u001b[0m: No module named 'watermark'",
            "",
            "\u001b[0;31m---------------------------------------------------------------------------\u001b[0;32m\nNOTE: If your import is failing due to a missing package, you can\nmanually install dependencies using either !pip or !apt.\n\nTo view examples of installing some common dependencies, click the\n\"Open Examples\" button below.\n\u001b[0;31m---------------------------------------------------------------------------\u001b[0m\n"
          ],
          "errorDetails": {
            "actions": [
              {
                "action": "open_url",
                "actionText": "Open Examples",
                "url": "/notebooks/snippets/importing_libraries.ipynb"
              }
            ]
          }
        }
      ],
      "source": [
        "import numpy as np\n",
        "np.random.seed(123)\n",
        "\n",
        "import matplotlib.pyplot as plt\n",
        "import pandas as pd\n",
        "import math\n",
        "\n",
        "import tensorflow as tf\n",
        "\n",
        "\n",
        "import keras\n",
        "from keras.models import Sequential\n",
        "from keras.layers import Dense\n",
        "from keras.layers import SimpleRNN, GRU, LSTM\n",
        "from sklearn.preprocessing import MinMaxScaler\n",
        "from sklearn.metrics import mean_squared_error\n",
        "\n",
        "import watermark\n",
        "\n",
        "%load_ext watermark\n",
        "%matplotlib inline"
      ]
    },
    {
      "cell_type": "code",
      "source": [
        "pip install watermark"
      ],
      "metadata": {
        "colab": {
          "base_uri": "https://localhost:8080/"
        },
        "id": "kELCs_5Ap70S",
        "outputId": "5509e184-4d3c-4c67-9bb9-b2a97c9c0b8a"
      },
      "execution_count": 3,
      "outputs": [
        {
          "output_type": "stream",
          "name": "stdout",
          "text": [
            "Looking in indexes: https://pypi.org/simple, https://us-python.pkg.dev/colab-wheels/public/simple/\n",
            "Collecting watermark\n",
            "  Downloading watermark-2.3.1-py2.py3-none-any.whl (7.2 kB)\n",
            "Requirement already satisfied: ipython in /usr/local/lib/python3.9/dist-packages (from watermark) (7.9.0)\n",
            "Requirement already satisfied: prompt-toolkit<2.1.0,>=2.0.0 in /usr/local/lib/python3.9/dist-packages (from ipython->watermark) (2.0.10)\n",
            "Requirement already satisfied: setuptools>=18.5 in /usr/local/lib/python3.9/dist-packages (from ipython->watermark) (67.6.0)\n",
            "Requirement already satisfied: backcall in /usr/local/lib/python3.9/dist-packages (from ipython->watermark) (0.2.0)\n",
            "Requirement already satisfied: pickleshare in /usr/local/lib/python3.9/dist-packages (from ipython->watermark) (0.7.5)\n",
            "Requirement already satisfied: decorator in /usr/local/lib/python3.9/dist-packages (from ipython->watermark) (4.4.2)\n",
            "Collecting jedi>=0.10\n",
            "  Downloading jedi-0.18.2-py2.py3-none-any.whl (1.6 MB)\n",
            "\u001b[2K     \u001b[90m━━━━━━━━━━━━━━━━━━━━━━━━━━━━━━━━━━━━━━━━\u001b[0m \u001b[32m1.6/1.6 MB\u001b[0m \u001b[31m18.6 MB/s\u001b[0m eta \u001b[36m0:00:00\u001b[0m\n",
            "\u001b[?25hRequirement already satisfied: traitlets>=4.2 in /usr/local/lib/python3.9/dist-packages (from ipython->watermark) (5.7.1)\n",
            "Requirement already satisfied: pygments in /usr/local/lib/python3.9/dist-packages (from ipython->watermark) (2.14.0)\n",
            "Requirement already satisfied: pexpect in /usr/local/lib/python3.9/dist-packages (from ipython->watermark) (4.8.0)\n",
            "Requirement already satisfied: parso<0.9.0,>=0.8.0 in /usr/local/lib/python3.9/dist-packages (from jedi>=0.10->ipython->watermark) (0.8.3)\n",
            "Requirement already satisfied: six>=1.9.0 in /usr/local/lib/python3.9/dist-packages (from prompt-toolkit<2.1.0,>=2.0.0->ipython->watermark) (1.16.0)\n",
            "Requirement already satisfied: wcwidth in /usr/local/lib/python3.9/dist-packages (from prompt-toolkit<2.1.0,>=2.0.0->ipython->watermark) (0.2.6)\n",
            "Requirement already satisfied: ptyprocess>=0.5 in /usr/local/lib/python3.9/dist-packages (from pexpect->ipython->watermark) (0.7.0)\n",
            "Installing collected packages: jedi, watermark\n",
            "Successfully installed jedi-0.18.2 watermark-2.3.1\n"
          ]
        }
      ]
    },
    {
      "cell_type": "markdown",
      "source": [],
      "metadata": {
        "id": "U6vbxLvcp7jS"
      }
    },
    {
      "cell_type": "markdown",
      "metadata": {
        "id": "a6TurC6mpPUW"
      },
      "source": [
        "Let's start by print out the versions of the libraries we're using for future reference"
      ]
    },
    {
      "cell_type": "markdown",
      "metadata": {
        "id": "bB3ylZ8SpPUX"
      },
      "source": [
        "# Load dataset"
      ]
    },
    {
      "cell_type": "markdown",
      "metadata": {
        "id": "7xgUurompPUX"
      },
      "source": [
        "GDP data from the Federal Reserve Bank [website](https://fred.stlouisfed.org/series/GDP)"
      ]
    },
    {
      "cell_type": "code",
      "execution_count": 4,
      "metadata": {
        "id": "3ZdOYDm7pPUX"
      },
      "outputs": [],
      "source": [
        "dataset = pd.read_csv('/content/GDP.csv', header=0, parse_dates=[0], index_col=0)"
      ]
    },
    {
      "cell_type": "markdown",
      "metadata": {
        "id": "IDbtR3fXpPUY"
      },
      "source": [
        "It's always important to see what you are doing. You can save a lot of time like this ;)"
      ]
    },
    {
      "cell_type": "code",
      "execution_count": 5,
      "metadata": {
        "colab": {
          "base_uri": "https://localhost:8080/",
          "height": 497
        },
        "id": "cOmKsGecpPUY",
        "outputId": "b2b2fc5c-aa18-4dce-a97a-bb6c11e71791"
      },
      "outputs": [
        {
          "output_type": "display_data",
          "data": {
            "text/plain": [
              "<Figure size 792x576 with 1 Axes>"
            ],
            "image/png": "[encoded data removed]"
          },
          "metadata": {
            "needs_background": "light"
          }
        }
      ],
      "source": [
        "plt.plot(dataset['GDP'])\n",
        "plt.xlabel('Date')\n",
        "plt.ylabel('GDP');\n",
        "plt.gcf().set_size_inches(11,8)"
      ]
    },
    {
      "cell_type": "markdown",
      "metadata": {
        "id": "uiYoClHQpPUY"
      },
      "source": [
        "You might remember the little \"dip\" around 2009."
      ]
    },
    {
      "cell_type": "markdown",
      "metadata": {
        "id": "__956TpxpPUZ"
      },
      "source": [
        "## Calculate the QoQ growth\n",
        "The outputs of a SimpleRNN are generated by an tanh function. Here we limit the values of our timeseries to be within [-1, 1] to avoid numerical issues. This also has the added advantage of making the timeseries (relatively) stationary"
      ]
    },
    {
      "cell_type": "code",
      "execution_count": 7,
      "metadata": {
        "colab": {
          "base_uri": "https://localhost:8080/"
        },
        "id": "YX5oFJmrpPUZ",
        "outputId": "c0481572-d2df-4d4c-fa50-3596a312992a"
      },
      "outputs": [
        {
          "output_type": "stream",
          "name": "stderr",
          "text": [
            "<ipython-input-7-1806efba4565>:3: FutureWarning: Slicing a positional slice with .loc is not supported, and will raise TypeError in a future version.  Use .loc with labels or .iloc with positions instead.\n",
            "  dataset.loc[1:, 'diff']=series\n"
          ]
        }
      ],
      "source": [
        "dataset['diff'] = 0\n",
        "series = dataset['GDP'].pct_change().dropna().values.reshape(-1,1)\n",
        "dataset.loc[1:, 'diff']=series"
      ]
    },
    {
      "cell_type": "markdown",
      "metadata": {
        "id": "rpk4PHa3pPUa"
      },
      "source": [
        "## Training and Testing datasets \n",
        "The y values are just the next x value"
      ]
    },
    {
      "cell_type": "code",
      "execution_count": 8,
      "metadata": {
        "id": "HjKrhrGspPUa"
      },
      "outputs": [],
      "source": [
        "values = series.reshape(-1, 1)\n",
        "scaler = MinMaxScaler(feature_range=(-1, 1))\n",
        "values = scaler.fit_transform(values)\n",
        "X = values[:-1]\n",
        "y = values[1:]"
      ]
    },
    {
      "cell_type": "markdown",
      "metadata": {
        "id": "NzKlkI7EpPUa"
      },
      "source": [
        "We'll be using the first 2/3 of the timeseries to train the model and the last 1/3 to evaluate it."
      ]
    },
    {
      "cell_type": "code",
      "execution_count": 9,
      "metadata": {
        "colab": {
          "base_uri": "https://localhost:8080/"
        },
        "id": "voRceW1mpPUb",
        "outputId": "52f89c08-2586-41c3-8ce5-1f0f8eabb172"
      },
      "outputs": [
        {
          "output_type": "stream",
          "name": "stdout",
          "text": [
            "We have 188 training points and 92 testing points\n"
          ]
        }
      ],
      "source": [
        "n_points = len(series)\n",
        "train_points = int(2/3*n_points)+1\n",
        "X_train, X_test = X[:train_points], X[train_points:]\n",
        "y_train, y_test = y[:train_points], y[train_points:]\n",
        "print(\"We have\", len(X_train), \"training points and\", X_test.shape[0], \"testing points\")"
      ]
    },
    {
      "cell_type": "markdown",
      "metadata": {
        "id": "8CXSpULtpPUb"
      },
      "source": [
        "The SimpleRNN model expects a 3D ([samples, time steps, features]) dataset so we reshape them accordingly "
      ]
    },
    {
      "cell_type": "code",
      "execution_count": 11,
      "metadata": {
        "colab": {
          "base_uri": "https://localhost:8080/"
        },
        "id": "5B42dPX_pPUb",
        "outputId": "2bff2322-2a31-4f18-9549-89be546a7979"
      },
      "outputs": [
        {
          "output_type": "stream",
          "name": "stdout",
          "text": [
            "(188, 1, 1)\n",
            "(92, 1, 1)\n"
          ]
        }
      ],
      "source": [
        "tf.compat.v1.reset_default_graph()\n",
        "keras.backend.clear_session()\n",
        "\n",
        "X_train = X_train.reshape(X_train.shape[0], X_train.shape[1], 1)\n",
        "X_test = X_test.reshape(X_test.shape[0], X_test.shape[1], 1)\n",
        "print(X_train.shape)\n",
        "print(X_test.shape)"
      ]
    },
    {
      "cell_type": "markdown",
      "metadata": {
        "id": "Ehn03A3xpPUc"
      },
      "source": [
        "We're only using one timestep"
      ]
    },
    {
      "cell_type": "markdown",
      "metadata": {
        "id": "SSg4sYmzpPUc"
      },
      "source": [
        "## Define the model architecture. \n",
        "We'll be using a SimpleRNN model. The Dense layer at the end has a linear activation function to aggregate the outputs of all the hidden units."
      ]
    },
    {
      "cell_type": "code",
      "execution_count": 12,
      "metadata": {
        "colab": {
          "base_uri": "https://localhost:8080/"
        },
        "id": "gMLD8PQjpPUc",
        "outputId": "40aa9359-bb33-43d3-ff01-b0a582e2402f"
      },
      "outputs": [
        {
          "output_type": "stream",
          "name": "stdout",
          "text": [
            "Model: \"sequential\"\n",
            "_________________________________________________________________\n",
            " Layer (type)                Output Shape              Param #   \n",
            "=================================================================\n",
            " simple_rnn (SimpleRNN)      (None, 10)                120       \n",
            "                                                                 \n",
            " dense (Dense)               (None, 1)                 11        \n",
            "                                                                 \n",
            "=================================================================\n",
            "Total params: 131\n",
            "Trainable params: 131\n",
            "Non-trainable params: 0\n",
            "_________________________________________________________________\n"
          ]
        }
      ],
      "source": [
        "model = Sequential()\n",
        "model.add(SimpleRNN(units=10, input_shape=(X_train.shape[1], X_train.shape[2])))\n",
        "model.add(Dense(1))\n",
        "\n",
        "model.compile(loss='mean_squared_error', optimizer='adam')\n",
        "\n",
        "model.summary()"
      ]
    },
    {
      "cell_type": "markdown",
      "metadata": {
        "id": "N2ubuAhxpPUc"
      },
      "source": [
        "## Train the model"
      ]
    },
    {
      "cell_type": "code",
      "execution_count": 13,
      "metadata": {
        "scrolled": false,
        "colab": {
          "base_uri": "https://localhost:8080/"
        },
        "id": "CNfwX-t_pPUd",
        "outputId": "c0c3e385-8bd8-4e07-e4aa-98e2bdebfe96"
      },
      "outputs": [
        {
          "output_type": "stream",
          "name": "stdout",
          "text": [
            "Epoch 1/100\n",
            "12/12 [==============================] - 2s 9ms/step - loss: 0.2378\n",
            "Epoch 2/100\n",
            "12/12 [==============================] - 0s 8ms/step - loss: 0.2143\n",
            "Epoch 3/100\n",
            "12/12 [==============================] - 0s 9ms/step - loss: 0.1951\n",
            "Epoch 4/100\n",
            "12/12 [==============================] - 0s 7ms/step - loss: 0.1798\n",
            "Epoch 5/100\n",
            "12/12 [==============================] - 0s 6ms/step - loss: 0.1671\n",
            "Epoch 6/100\n",
            "12/12 [==============================] - 0s 7ms/step - loss: 0.1577\n",
            "Epoch 7/100\n",
            "12/12 [==============================] - 0s 5ms/step - loss: 0.1482\n",
            "Epoch 8/100\n",
            "12/12 [==============================] - 0s 7ms/step - loss: 0.1396\n",
            "Epoch 9/100\n",
            "12/12 [==============================] - 0s 7ms/step - loss: 0.1322\n",
            "Epoch 10/100\n",
            "12/12 [==============================] - 0s 7ms/step - loss: 0.1254\n",
            "Epoch 11/100\n",
            "12/12 [==============================] - 0s 6ms/step - loss: 0.1195\n",
            "Epoch 12/100\n",
            "12/12 [==============================] - 0s 10ms/step - loss: 0.1139\n",
            "Epoch 13/100\n",
            "12/12 [==============================] - 0s 6ms/step - loss: 0.1088\n",
            "Epoch 14/100\n",
            "12/12 [==============================] - 0s 4ms/step - loss: 0.1038\n",
            "Epoch 15/100\n",
            "12/12 [==============================] - 0s 9ms/step - loss: 0.0998\n",
            "Epoch 16/100\n",
            "12/12 [==============================] - 0s 7ms/step - loss: 0.0962\n",
            "Epoch 17/100\n",
            "12/12 [==============================] - 0s 6ms/step - loss: 0.0932\n",
            "Epoch 18/100\n",
            "12/12 [==============================] - 0s 6ms/step - loss: 0.0898\n",
            "Epoch 19/100\n",
            "12/12 [==============================] - 0s 7ms/step - loss: 0.0872\n",
            "Epoch 20/100\n",
            "12/12 [==============================] - 0s 7ms/step - loss: 0.0852\n",
            "Epoch 21/100\n",
            "12/12 [==============================] - 0s 7ms/step - loss: 0.0832\n",
            "Epoch 22/100\n",
            "12/12 [==============================] - 0s 6ms/step - loss: 0.0813\n",
            "Epoch 23/100\n",
            "12/12 [==============================] - 0s 7ms/step - loss: 0.0798\n",
            "Epoch 24/100\n",
            "12/12 [==============================] - 0s 11ms/step - loss: 0.0784\n",
            "Epoch 25/100\n",
            "12/12 [==============================] - 0s 6ms/step - loss: 0.0774\n",
            "Epoch 26/100\n",
            "12/12 [==============================] - 0s 4ms/step - loss: 0.0766\n",
            "Epoch 27/100\n",
            "12/12 [==============================] - 0s 4ms/step - loss: 0.0756\n",
            "Epoch 28/100\n",
            "12/12 [==============================] - 0s 4ms/step - loss: 0.0751\n",
            "Epoch 29/100\n",
            "12/12 [==============================] - 0s 4ms/step - loss: 0.0744\n",
            "Epoch 30/100\n",
            "12/12 [==============================] - 0s 4ms/step - loss: 0.0741\n",
            "Epoch 31/100\n",
            "12/12 [==============================] - 0s 4ms/step - loss: 0.0737\n",
            "Epoch 32/100\n",
            "12/12 [==============================] - 0s 5ms/step - loss: 0.0734\n",
            "Epoch 33/100\n",
            "12/12 [==============================] - 0s 13ms/step - loss: 0.0732\n",
            "Epoch 34/100\n",
            "12/12 [==============================] - 0s 4ms/step - loss: 0.0729\n",
            "Epoch 35/100\n",
            "12/12 [==============================] - 0s 7ms/step - loss: 0.0727\n",
            "Epoch 36/100\n",
            "12/12 [==============================] - 0s 7ms/step - loss: 0.0726\n",
            "Epoch 37/100\n",
            "12/12 [==============================] - 0s 6ms/step - loss: 0.0726\n",
            "Epoch 38/100\n",
            "12/12 [==============================] - 0s 12ms/step - loss: 0.0724\n",
            "Epoch 39/100\n",
            "12/12 [==============================] - 0s 9ms/step - loss: 0.0724\n",
            "Epoch 40/100\n",
            "12/12 [==============================] - 0s 8ms/step - loss: 0.0723\n",
            "Epoch 41/100\n",
            "12/12 [==============================] - 0s 9ms/step - loss: 0.0723\n",
            "Epoch 42/100\n",
            "12/12 [==============================] - 0s 9ms/step - loss: 0.0723\n",
            "Epoch 43/100\n",
            "12/12 [==============================] - 0s 7ms/step - loss: 0.0723\n",
            "Epoch 44/100\n",
            "12/12 [==============================] - 0s 4ms/step - loss: 0.0723\n",
            "Epoch 45/100\n",
            "12/12 [==============================] - 0s 4ms/step - loss: 0.0722\n",
            "Epoch 46/100\n",
            "12/12 [==============================] - 0s 4ms/step - loss: 0.0722\n",
            "Epoch 47/100\n",
            "12/12 [==============================] - 0s 3ms/step - loss: 0.0722\n",
            "Epoch 48/100\n",
            "12/12 [==============================] - 0s 3ms/step - loss: 0.0722\n",
            "Epoch 49/100\n",
            "12/12 [==============================] - 0s 2ms/step - loss: 0.0723\n",
            "Epoch 50/100\n",
            "12/12 [==============================] - 0s 3ms/step - loss: 0.0722\n",
            "Epoch 51/100\n",
            "12/12 [==============================] - 0s 2ms/step - loss: 0.0722\n",
            "Epoch 52/100\n",
            "12/12 [==============================] - 0s 3ms/step - loss: 0.0724\n",
            "Epoch 53/100\n",
            "12/12 [==============================] - 0s 3ms/step - loss: 0.0722\n",
            "Epoch 54/100\n",
            "12/12 [==============================] - 0s 4ms/step - loss: 0.0723\n",
            "Epoch 55/100\n",
            "12/12 [==============================] - 0s 3ms/step - loss: 0.0723\n",
            "Epoch 56/100\n",
            "12/12 [==============================] - 0s 3ms/step - loss: 0.0723\n",
            "Epoch 57/100\n",
            "12/12 [==============================] - 0s 2ms/step - loss: 0.0722\n",
            "Epoch 58/100\n",
            "12/12 [==============================] - 0s 3ms/step - loss: 0.0722\n",
            "Epoch 59/100\n",
            "12/12 [==============================] - 0s 2ms/step - loss: 0.0723\n",
            "Epoch 60/100\n",
            "12/12 [==============================] - 0s 3ms/step - loss: 0.0722\n",
            "Epoch 61/100\n",
            "12/12 [==============================] - 0s 2ms/step - loss: 0.0722\n",
            "Epoch 62/100\n",
            "12/12 [==============================] - 0s 3ms/step - loss: 0.0722\n",
            "Epoch 63/100\n",
            "12/12 [==============================] - 0s 2ms/step - loss: 0.0722\n",
            "Epoch 64/100\n",
            "12/12 [==============================] - 0s 2ms/step - loss: 0.0723\n",
            "Epoch 65/100\n",
            "12/12 [==============================] - 0s 2ms/step - loss: 0.0722\n",
            "Epoch 66/100\n",
            "12/12 [==============================] - 0s 3ms/step - loss: 0.0722\n",
            "Epoch 67/100\n",
            "12/12 [==============================] - 0s 2ms/step - loss: 0.0723\n",
            "Epoch 68/100\n",
            "12/12 [==============================] - 0s 2ms/step - loss: 0.0722\n",
            "Epoch 69/100\n",
            "12/12 [==============================] - 0s 2ms/step - loss: 0.0723\n",
            "Epoch 70/100\n",
            "12/12 [==============================] - 0s 3ms/step - loss: 0.0724\n",
            "Epoch 71/100\n",
            "12/12 [==============================] - 0s 3ms/step - loss: 0.0723\n",
            "Epoch 72/100\n",
            "12/12 [==============================] - 0s 3ms/step - loss: 0.0723\n",
            "Epoch 73/100\n",
            "12/12 [==============================] - 0s 3ms/step - loss: 0.0722\n",
            "Epoch 74/100\n",
            "12/12 [==============================] - 0s 2ms/step - loss: 0.0724\n",
            "Epoch 75/100\n",
            "12/12 [==============================] - 0s 2ms/step - loss: 0.0722\n",
            "Epoch 76/100\n",
            "12/12 [==============================] - 0s 3ms/step - loss: 0.0722\n",
            "Epoch 77/100\n",
            "12/12 [==============================] - 0s 3ms/step - loss: 0.0723\n",
            "Epoch 78/100\n",
            "12/12 [==============================] - 0s 2ms/step - loss: 0.0722\n",
            "Epoch 79/100\n",
            "12/12 [==============================] - 0s 2ms/step - loss: 0.0723\n",
            "Epoch 80/100\n",
            "12/12 [==============================] - 0s 3ms/step - loss: 0.0722\n",
            "Epoch 81/100\n",
            "12/12 [==============================] - 0s 3ms/step - loss: 0.0723\n",
            "Epoch 82/100\n",
            "12/12 [==============================] - 0s 2ms/step - loss: 0.0722\n",
            "Epoch 83/100\n",
            "12/12 [==============================] - 0s 2ms/step - loss: 0.0722\n",
            "Epoch 84/100\n",
            "12/12 [==============================] - 0s 2ms/step - loss: 0.0723\n",
            "Epoch 85/100\n",
            "12/12 [==============================] - 0s 2ms/step - loss: 0.0722\n",
            "Epoch 86/100\n",
            "12/12 [==============================] - 0s 3ms/step - loss: 0.0723\n",
            "Epoch 87/100\n",
            "12/12 [==============================] - 0s 2ms/step - loss: 0.0722\n",
            "Epoch 88/100\n",
            "12/12 [==============================] - 0s 3ms/step - loss: 0.0722\n",
            "Epoch 89/100\n",
            "12/12 [==============================] - 0s 2ms/step - loss: 0.0722\n",
            "Epoch 90/100\n",
            "12/12 [==============================] - 0s 2ms/step - loss: 0.0724\n",
            "Epoch 91/100\n",
            "12/12 [==============================] - 0s 2ms/step - loss: 0.0723\n",
            "Epoch 92/100\n",
            "12/12 [==============================] - 0s 2ms/step - loss: 0.0723\n",
            "Epoch 93/100\n",
            "12/12 [==============================] - 0s 3ms/step - loss: 0.0723\n",
            "Epoch 94/100\n",
            "12/12 [==============================] - 0s 2ms/step - loss: 0.0724\n",
            "Epoch 95/100\n",
            "12/12 [==============================] - 0s 3ms/step - loss: 0.0722\n",
            "Epoch 96/100\n",
            "12/12 [==============================] - 0s 3ms/step - loss: 0.0723\n",
            "Epoch 97/100\n",
            "12/12 [==============================] - 0s 2ms/step - loss: 0.0722\n",
            "Epoch 98/100\n",
            "12/12 [==============================] - 0s 3ms/step - loss: 0.0723\n",
            "Epoch 99/100\n",
            "12/12 [==============================] - 0s 2ms/step - loss: 0.0722\n",
            "Epoch 100/100\n",
            "12/12 [==============================] - 0s 4ms/step - loss: 0.0724\n"
          ]
        },
        {
          "output_type": "execute_result",
          "data": {
            "text/plain": [
              "<keras.callbacks.History at 0x7fa74e02dfd0>"
            ]
          },
          "metadata": {},
          "execution_count": 13
        }
      ],
      "source": [
        "nb_epoch = 100\n",
        "\n",
        "model.fit(X_train, y_train, epochs=nb_epoch, batch_size=16)"
      ]
    },
    {
      "cell_type": "markdown",
      "metadata": {
        "id": "jfJEkSb_pPUd"
      },
      "source": [
        "## Make predictions"
      ]
    },
    {
      "cell_type": "code",
      "execution_count": 14,
      "metadata": {
        "colab": {
          "base_uri": "https://localhost:8080/"
        },
        "id": "EyNgnFCPpPUd",
        "outputId": "cb2f3705-455d-429a-c428-aebacd9a2c47"
      },
      "outputs": [
        {
          "output_type": "stream",
          "name": "stdout",
          "text": [
            "6/6 [==============================] - 0s 3ms/step\n",
            "3/3 [==============================] - 0s 3ms/step\n"
          ]
        }
      ],
      "source": [
        "y_train_pred = model.predict(X_train)\n",
        "y_test_pred = model.predict(X_test)"
      ]
    },
    {
      "cell_type": "code",
      "execution_count": 15,
      "metadata": {
        "colab": {
          "base_uri": "https://localhost:8080/",
          "height": 282
        },
        "id": "0bk3CVEipPUd",
        "outputId": "4597af31-9eb2-431b-a274-3d7f3838a20a"
      },
      "outputs": [
        {
          "output_type": "execute_result",
          "data": {
            "text/plain": [
              "[<matplotlib.lines.Line2D at 0x7fa74e91da00>]"
            ]
          },
          "metadata": {},
          "execution_count": 15
        },
        {
          "output_type": "display_data",
          "data": {
            "text/plain": [
              "<Figure size 432x288 with 1 Axes>"
            ],
            "image/png": "[encoded data removed]"
          },
          "metadata": {
            "needs_background": "light"
          }
        }
      ],
      "source": [
        "plt.plot(range(len(y_train)), y_train)\n",
        "plt.plot(range(len(y_train_pred)), y_train_pred)"
      ]
    },
    {
      "cell_type": "markdown",
      "metadata": {
        "id": "wn0ByXF2pPUe"
      },
      "source": [
        "Compute the actual values"
      ]
    },
    {
      "cell_type": "code",
      "execution_count": 20,
      "metadata": {
        "colab": {
          "base_uri": "https://localhost:8080/"
        },
        "id": "SBaAeiHIpPUe",
        "outputId": "54836c04-b347-4429-d5a2-678d27b6d88d"
      },
      "outputs": [
        {
          "output_type": "stream",
          "name": "stderr",
          "text": [
            "<ipython-input-20-a40fad6d2eb9>:3: FutureWarning: Slicing a positional slice with .loc is not supported, and will raise TypeError in a future version.  Use .loc with labels or .iloc with positions instead.\n",
            "  dataset.loc[1:train_points+1, 'RNN_train_predict'] = 1+scaler.inverse_transform(y_train_pred)\n",
            "<ipython-input-20-a40fad6d2eb9>:4: FutureWarning: Slicing a positional slice with .loc is not supported, and will raise TypeError in a future version.  Use .loc with labels or .iloc with positions instead.\n",
            "  dataset.loc[train_points+2:, 'RNN_test_predict'] = 1+scaler.inverse_transform(y_test_pred)\n"
          ]
        }
      ],
      "source": [
        "dataset['RNN_train_predict'] = 1\n",
        "dataset['RNN_test_predict'] = 1\n",
        "dataset.loc[1:train_points+1, 'RNN_train_predict'] = 1+scaler.inverse_transform(y_train_pred)\n",
        "dataset.loc[train_points+2:, 'RNN_test_predict'] = 1+scaler.inverse_transform(y_test_pred)\n",
        "\n",
        "dataset['RNN_train_predict'] = dataset.iloc[0]['GDP']*dataset['RNN_train_predict'].cumprod()\n",
        "dataset['RNN_test_predict'] = dataset.iloc[train_points+1]['GDP']*dataset['RNN_test_predict'].cumprod()"
      ]
    },
    {
      "cell_type": "code",
      "source": [
        "print(dataset.iloc[train_points+1]['GDP']*dataset['RNN_test_predict'].cumprod())"
      ],
      "metadata": {
        "colab": {
          "base_uri": "https://localhost:8080/"
        },
        "id": "kKhun76Kwhvl",
        "outputId": "ef8d5ec6-8a3a-4ba7-c247-73cd81045780"
      },
      "execution_count": 24,
      "outputs": [
        {
          "output_type": "stream",
          "name": "stdout",
          "text": [
            "DATE\n",
            "1948-01-01    5.747152e+07\n",
            "1948-04-01    4.356914e+11\n",
            "1948-07-01    3.302975e+15\n",
            "1948-10-01    2.503984e+19\n",
            "1949-01-01    1.898270e+23\n",
            "                  ...     \n",
            "2017-04-01             inf\n",
            "2017-07-01             inf\n",
            "2017-10-01             inf\n",
            "2018-01-01             inf\n",
            "2018-04-01             inf\n",
            "Name: RNN_test_predict, Length: 282, dtype: float64\n"
          ]
        },
        {
          "output_type": "stream",
          "name": "stderr",
          "text": [
            "/usr/local/lib/python3.9/dist-packages/numpy/core/fromnumeric.py:57: RuntimeWarning: overflow encountered in accumulate\n",
            "  return bound(*args, **kwds)\n"
          ]
        }
      ]
    },
    {
      "cell_type": "code",
      "execution_count": 21,
      "metadata": {
        "colab": {
          "base_uri": "https://localhost:8080/",
          "height": 498
        },
        "id": "-urcqTZ6pPUe",
        "outputId": "d079d986-d17f-4329-d051-441315c7227c"
      },
      "outputs": [
        {
          "output_type": "display_data",
          "data": {
            "text/plain": [
              "<Figure size 792x576 with 1 Axes>"
            ],
            "image/png": "[encoded data removed]"
          },
          "metadata": {
            "needs_background": "light"
          }
        }
      ],
      "source": [
        "dataset[['GDP', 'RNN_train_predict', 'RNN_test_predict']].plot()\n",
        "plt.gcf().set_size_inches(11, 8)"
      ]
    },
    {
      "cell_type": "markdown",
      "metadata": {
        "id": "V7CVsHAgpPUf"
      },
      "source": [
        "# LSTM\n",
        "Let's now try using a slightly more sophisticated architecture"
      ]
    },
    {
      "cell_type": "code",
      "execution_count": 16,
      "metadata": {
        "id": "IuBMtPFhpPUf"
      },
      "outputs": [],
      "source": [
        "model = Sequential()\n",
        "model.add(LSTM(4, input_shape=(1, 1)))\n",
        "model.add(Dense(1))\n",
        "model.compile(loss='mean_squared_error', optimizer='adam')"
      ]
    },
    {
      "cell_type": "code",
      "execution_count": 25,
      "metadata": {
        "colab": {
          "base_uri": "https://localhost:8080/"
        },
        "id": "NKLewyWCpPUf",
        "outputId": "1b1168d7-84d2-4aa2-a642-afc8b75302d0"
      },
      "outputs": [
        {
          "output_type": "stream",
          "name": "stdout",
          "text": [
            "Model: \"sequential_1\"\n",
            "_________________________________________________________________\n",
            " Layer (type)                Output Shape              Param #   \n",
            "=================================================================\n",
            " lstm (LSTM)                 (None, 4)                 96        \n",
            "                                                                 \n",
            " dense_1 (Dense)             (None, 1)                 5         \n",
            "                                                                 \n",
            "=================================================================\n",
            "Total params: 101\n",
            "Trainable params: 101\n",
            "Non-trainable params: 0\n",
            "_________________________________________________________________\n"
          ]
        }
      ],
      "source": [
        "model.summary()"
      ]
    },
    {
      "cell_type": "code",
      "execution_count": 26,
      "metadata": {
        "scrolled": false,
        "colab": {
          "base_uri": "https://localhost:8080/"
        },
        "id": "rDfrBYbxpPUf",
        "outputId": "51680e93-dc55-4879-936a-66a811ee9fdc"
      },
      "outputs": [
        {
          "output_type": "stream",
          "name": "stdout",
          "text": [
            "Epoch 1/500\n",
            "6/6 [==============================] - 0s 4ms/step - loss: 0.0720\n",
            "Epoch 2/500\n",
            "6/6 [==============================] - 0s 3ms/step - loss: 0.0721\n",
            "Epoch 3/500\n",
            "6/6 [==============================] - 0s 3ms/step - loss: 0.0721\n",
            "Epoch 4/500\n",
            "6/6 [==============================] - 0s 3ms/step - loss: 0.0720\n",
            "Epoch 5/500\n",
            "6/6 [==============================] - 0s 3ms/step - loss: 0.0720\n",
            "Epoch 6/500\n",
            "6/6 [==============================] - 0s 3ms/step - loss: 0.0720\n",
            "Epoch 7/500\n",
            "6/6 [==============================] - 0s 4ms/step - loss: 0.0720\n",
            "Epoch 8/500\n",
            "6/6 [==============================] - 0s 4ms/step - loss: 0.0720\n",
            "Epoch 9/500\n",
            "6/6 [==============================] - 0s 4ms/step - loss: 0.0720\n",
            "Epoch 10/500\n",
            "6/6 [==============================] - 0s 3ms/step - loss: 0.0720\n",
            "Epoch 11/500\n",
            "6/6 [==============================] - 0s 3ms/step - loss: 0.0720\n",
            "Epoch 12/500\n",
            "6/6 [==============================] - 0s 3ms/step - loss: 0.0720\n",
            "Epoch 13/500\n",
            "6/6 [==============================] - 0s 3ms/step - loss: 0.0720\n",
            "Epoch 14/500\n",
            "6/6 [==============================] - 0s 3ms/step - loss: 0.0720\n",
            "Epoch 15/500\n",
            "6/6 [==============================] - 0s 3ms/step - loss: 0.0720\n",
            "Epoch 16/500\n",
            "6/6 [==============================] - 0s 4ms/step - loss: 0.0720\n",
            "Epoch 17/500\n",
            "6/6 [==============================] - 0s 3ms/step - loss: 0.0720\n",
            "Epoch 18/500\n",
            "6/6 [==============================] - 0s 3ms/step - loss: 0.0720\n",
            "Epoch 19/500\n",
            "6/6 [==============================] - 0s 4ms/step - loss: 0.0720\n",
            "Epoch 20/500\n",
            "6/6 [==============================] - 0s 3ms/step - loss: 0.0721\n",
            "Epoch 21/500\n",
            "6/6 [==============================] - 0s 3ms/step - loss: 0.0721\n",
            "Epoch 22/500\n",
            "6/6 [==============================] - 0s 4ms/step - loss: 0.0720\n",
            "Epoch 23/500\n",
            "6/6 [==============================] - 0s 4ms/step - loss: 0.0720\n",
            "Epoch 24/500\n",
            "6/6 [==============================] - 0s 3ms/step - loss: 0.0720\n",
            "Epoch 25/500\n",
            "6/6 [==============================] - 0s 3ms/step - loss: 0.0720\n",
            "Epoch 26/500\n",
            "6/6 [==============================] - 0s 4ms/step - loss: 0.0720\n",
            "Epoch 27/500\n",
            "6/6 [==============================] - 0s 4ms/step - loss: 0.0720\n",
            "Epoch 28/500\n",
            "6/6 [==============================] - 0s 3ms/step - loss: 0.0720\n",
            "Epoch 29/500\n",
            "6/6 [==============================] - 0s 3ms/step - loss: 0.0720\n",
            "Epoch 30/500\n",
            "6/6 [==============================] - 0s 3ms/step - loss: 0.0720\n",
            "Epoch 31/500\n",
            "6/6 [==============================] - 0s 3ms/step - loss: 0.0720\n",
            "Epoch 32/500\n",
            "6/6 [==============================] - 0s 4ms/step - loss: 0.0720\n",
            "Epoch 33/500\n",
            "6/6 [==============================] - 0s 5ms/step - loss: 0.0720\n",
            "Epoch 34/500\n",
            "6/6 [==============================] - 0s 4ms/step - loss: 0.0720\n",
            "Epoch 35/500\n",
            "6/6 [==============================] - 0s 4ms/step - loss: 0.0720\n",
            "Epoch 36/500\n",
            "6/6 [==============================] - 0s 4ms/step - loss: 0.0720\n",
            "Epoch 37/500\n",
            "6/6 [==============================] - 0s 4ms/step - loss: 0.0720\n",
            "Epoch 38/500\n",
            "6/6 [==============================] - 0s 3ms/step - loss: 0.0720\n",
            "Epoch 39/500\n",
            "6/6 [==============================] - 0s 5ms/step - loss: 0.0720\n",
            "Epoch 40/500\n",
            "6/6 [==============================] - 0s 4ms/step - loss: 0.0720\n",
            "Epoch 41/500\n",
            "6/6 [==============================] - 0s 3ms/step - loss: 0.0720\n",
            "Epoch 42/500\n",
            "6/6 [==============================] - 0s 3ms/step - loss: 0.0720\n",
            "Epoch 43/500\n",
            "6/6 [==============================] - 0s 3ms/step - loss: 0.0720\n",
            "Epoch 44/500\n",
            "6/6 [==============================] - 0s 3ms/step - loss: 0.0720\n",
            "Epoch 45/500\n",
            "6/6 [==============================] - 0s 4ms/step - loss: 0.0720\n",
            "Epoch 46/500\n",
            "6/6 [==============================] - 0s 3ms/step - loss: 0.0721\n",
            "Epoch 47/500\n",
            "6/6 [==============================] - 0s 3ms/step - loss: 0.0720\n",
            "Epoch 48/500\n",
            "6/6 [==============================] - 0s 3ms/step - loss: 0.0720\n",
            "Epoch 49/500\n",
            "6/6 [==============================] - 0s 3ms/step - loss: 0.0720\n",
            "Epoch 50/500\n",
            "6/6 [==============================] - 0s 3ms/step - loss: 0.0720\n",
            "Epoch 51/500\n",
            "6/6 [==============================] - 0s 4ms/step - loss: 0.0721\n",
            "Epoch 52/500\n",
            "6/6 [==============================] - 0s 3ms/step - loss: 0.0720\n",
            "Epoch 53/500\n",
            "6/6 [==============================] - 0s 3ms/step - loss: 0.0720\n",
            "Epoch 54/500\n",
            "6/6 [==============================] - 0s 3ms/step - loss: 0.0720\n",
            "Epoch 55/500\n",
            "6/6 [==============================] - 0s 3ms/step - loss: 0.0720\n",
            "Epoch 56/500\n",
            "6/6 [==============================] - 0s 3ms/step - loss: 0.0720\n",
            "Epoch 57/500\n",
            "6/6 [==============================] - 0s 3ms/step - loss: 0.0720\n",
            "Epoch 58/500\n",
            "6/6 [==============================] - 0s 3ms/step - loss: 0.0720\n",
            "Epoch 59/500\n",
            "6/6 [==============================] - 0s 3ms/step - loss: 0.0720\n",
            "Epoch 60/500\n",
            "6/6 [==============================] - 0s 3ms/step - loss: 0.0721\n",
            "Epoch 61/500\n",
            "6/6 [==============================] - 0s 3ms/step - loss: 0.0721\n",
            "Epoch 62/500\n",
            "6/6 [==============================] - 0s 5ms/step - loss: 0.0720\n",
            "Epoch 63/500\n",
            "6/6 [==============================] - 0s 3ms/step - loss: 0.0720\n",
            "Epoch 64/500\n",
            "6/6 [==============================] - 0s 3ms/step - loss: 0.0720\n",
            "Epoch 65/500\n",
            "6/6 [==============================] - 0s 4ms/step - loss: 0.0720\n",
            "Epoch 66/500\n",
            "6/6 [==============================] - 0s 4ms/step - loss: 0.0720\n",
            "Epoch 67/500\n",
            "6/6 [==============================] - 0s 3ms/step - loss: 0.0720\n",
            "Epoch 68/500\n",
            "6/6 [==============================] - 0s 3ms/step - loss: 0.0720\n",
            "Epoch 69/500\n",
            "6/6 [==============================] - 0s 3ms/step - loss: 0.0720\n",
            "Epoch 70/500\n",
            "6/6 [==============================] - 0s 4ms/step - loss: 0.0720\n",
            "Epoch 71/500\n",
            "6/6 [==============================] - 0s 4ms/step - loss: 0.0721\n",
            "Epoch 72/500\n",
            "6/6 [==============================] - 0s 3ms/step - loss: 0.0721\n",
            "Epoch 73/500\n",
            "6/6 [==============================] - 0s 4ms/step - loss: 0.0721\n",
            "Epoch 74/500\n",
            "6/6 [==============================] - 0s 4ms/step - loss: 0.0721\n",
            "Epoch 75/500\n",
            "6/6 [==============================] - 0s 3ms/step - loss: 0.0720\n",
            "Epoch 76/500\n",
            "6/6 [==============================] - 0s 3ms/step - loss: 0.0720\n",
            "Epoch 77/500\n",
            "6/6 [==============================] - 0s 3ms/step - loss: 0.0720\n",
            "Epoch 78/500\n",
            "6/6 [==============================] - 0s 3ms/step - loss: 0.0720\n",
            "Epoch 79/500\n",
            "6/6 [==============================] - 0s 3ms/step - loss: 0.0721\n",
            "Epoch 80/500\n",
            "6/6 [==============================] - 0s 3ms/step - loss: 0.0720\n",
            "Epoch 81/500\n",
            "6/6 [==============================] - 0s 3ms/step - loss: 0.0720\n",
            "Epoch 82/500\n",
            "6/6 [==============================] - 0s 3ms/step - loss: 0.0720\n",
            "Epoch 83/500\n",
            "6/6 [==============================] - 0s 3ms/step - loss: 0.0720\n",
            "Epoch 84/500\n",
            "6/6 [==============================] - 0s 3ms/step - loss: 0.0720\n",
            "Epoch 85/500\n",
            "6/6 [==============================] - 0s 3ms/step - loss: 0.0722\n",
            "Epoch 86/500\n",
            "6/6 [==============================] - 0s 3ms/step - loss: 0.0721\n",
            "Epoch 87/500\n",
            "6/6 [==============================] - 0s 3ms/step - loss: 0.0721\n",
            "Epoch 88/500\n",
            "6/6 [==============================] - 0s 3ms/step - loss: 0.0721\n",
            "Epoch 89/500\n",
            "6/6 [==============================] - 0s 4ms/step - loss: 0.0720\n",
            "Epoch 90/500\n",
            "6/6 [==============================] - 0s 4ms/step - loss: 0.0720\n",
            "Epoch 91/500\n",
            "6/6 [==============================] - 0s 4ms/step - loss: 0.0720\n",
            "Epoch 92/500\n",
            "6/6 [==============================] - 0s 3ms/step - loss: 0.0720\n",
            "Epoch 93/500\n",
            "6/6 [==============================] - 0s 3ms/step - loss: 0.0720\n",
            "Epoch 94/500\n",
            "6/6 [==============================] - 0s 4ms/step - loss: 0.0720\n",
            "Epoch 95/500\n",
            "6/6 [==============================] - 0s 3ms/step - loss: 0.0720\n",
            "Epoch 96/500\n",
            "6/6 [==============================] - 0s 3ms/step - loss: 0.0720\n",
            "Epoch 97/500\n",
            "6/6 [==============================] - 0s 3ms/step - loss: 0.0720\n",
            "Epoch 98/500\n",
            "6/6 [==============================] - 0s 4ms/step - loss: 0.0720\n",
            "Epoch 99/500\n",
            "6/6 [==============================] - 0s 4ms/step - loss: 0.0720\n",
            "Epoch 100/500\n",
            "6/6 [==============================] - 0s 3ms/step - loss: 0.0721\n",
            "Epoch 101/500\n",
            "6/6 [==============================] - 0s 3ms/step - loss: 0.0720\n",
            "Epoch 102/500\n",
            "6/6 [==============================] - 0s 3ms/step - loss: 0.0720\n",
            "Epoch 103/500\n",
            "6/6 [==============================] - 0s 4ms/step - loss: 0.0720\n",
            "Epoch 104/500\n",
            "6/6 [==============================] - 0s 3ms/step - loss: 0.0720\n",
            "Epoch 105/500\n",
            "6/6 [==============================] - 0s 3ms/step - loss: 0.0720\n",
            "Epoch 106/500\n",
            "6/6 [==============================] - 0s 5ms/step - loss: 0.0720\n",
            "Epoch 107/500\n",
            "6/6 [==============================] - 0s 5ms/step - loss: 0.0720\n",
            "Epoch 108/500\n",
            "6/6 [==============================] - 0s 4ms/step - loss: 0.0720\n",
            "Epoch 109/500\n",
            "6/6 [==============================] - 0s 4ms/step - loss: 0.0720\n",
            "Epoch 110/500\n",
            "6/6 [==============================] - 0s 5ms/step - loss: 0.0720\n",
            "Epoch 111/500\n",
            "6/6 [==============================] - 0s 3ms/step - loss: 0.0720\n",
            "Epoch 112/500\n",
            "6/6 [==============================] - 0s 4ms/step - loss: 0.0720\n",
            "Epoch 113/500\n",
            "6/6 [==============================] - 0s 3ms/step - loss: 0.0720\n",
            "Epoch 114/500\n",
            "6/6 [==============================] - 0s 3ms/step - loss: 0.0720\n",
            "Epoch 115/500\n",
            "6/6 [==============================] - 0s 7ms/step - loss: 0.0720\n",
            "Epoch 116/500\n",
            "6/6 [==============================] - 0s 3ms/step - loss: 0.0720\n",
            "Epoch 117/500\n",
            "6/6 [==============================] - 0s 3ms/step - loss: 0.0720\n",
            "Epoch 118/500\n",
            "6/6 [==============================] - 0s 3ms/step - loss: 0.0720\n",
            "Epoch 119/500\n",
            "6/6 [==============================] - 0s 3ms/step - loss: 0.0720\n",
            "Epoch 120/500\n",
            "6/6 [==============================] - 0s 3ms/step - loss: 0.0720\n",
            "Epoch 121/500\n",
            "6/6 [==============================] - 0s 3ms/step - loss: 0.0720\n",
            "Epoch 122/500\n",
            "6/6 [==============================] - 0s 3ms/step - loss: 0.0721\n",
            "Epoch 123/500\n",
            "6/6 [==============================] - 0s 4ms/step - loss: 0.0720\n",
            "Epoch 124/500\n",
            "6/6 [==============================] - 0s 3ms/step - loss: 0.0720\n",
            "Epoch 125/500\n",
            "6/6 [==============================] - 0s 3ms/step - loss: 0.0720\n",
            "Epoch 126/500\n",
            "6/6 [==============================] - 0s 3ms/step - loss: 0.0720\n",
            "Epoch 127/500\n",
            "6/6 [==============================] - 0s 3ms/step - loss: 0.0720\n",
            "Epoch 128/500\n",
            "6/6 [==============================] - 0s 4ms/step - loss: 0.0720\n",
            "Epoch 129/500\n",
            "6/6 [==============================] - 0s 4ms/step - loss: 0.0721\n",
            "Epoch 130/500\n",
            "6/6 [==============================] - 0s 4ms/step - loss: 0.0720\n",
            "Epoch 131/500\n",
            "6/6 [==============================] - 0s 3ms/step - loss: 0.0721\n",
            "Epoch 132/500\n",
            "6/6 [==============================] - 0s 4ms/step - loss: 0.0721\n",
            "Epoch 133/500\n",
            "6/6 [==============================] - 0s 4ms/step - loss: 0.0720\n",
            "Epoch 134/500\n",
            "6/6 [==============================] - 0s 3ms/step - loss: 0.0720\n",
            "Epoch 135/500\n",
            "6/6 [==============================] - 0s 4ms/step - loss: 0.0720\n",
            "Epoch 136/500\n",
            "6/6 [==============================] - 0s 4ms/step - loss: 0.0720\n",
            "Epoch 137/500\n",
            "6/6 [==============================] - 0s 4ms/step - loss: 0.0720\n",
            "Epoch 138/500\n",
            "6/6 [==============================] - 0s 4ms/step - loss: 0.0720\n",
            "Epoch 139/500\n",
            "6/6 [==============================] - 0s 3ms/step - loss: 0.0720\n",
            "Epoch 140/500\n",
            "6/6 [==============================] - 0s 4ms/step - loss: 0.0720\n",
            "Epoch 141/500\n",
            "6/6 [==============================] - 0s 4ms/step - loss: 0.0721\n",
            "Epoch 142/500\n",
            "6/6 [==============================] - 0s 4ms/step - loss: 0.0720\n",
            "Epoch 143/500\n",
            "6/6 [==============================] - 0s 5ms/step - loss: 0.0720\n",
            "Epoch 144/500\n",
            "6/6 [==============================] - 0s 4ms/step - loss: 0.0720\n",
            "Epoch 145/500\n",
            "6/6 [==============================] - 0s 4ms/step - loss: 0.0720\n",
            "Epoch 146/500\n",
            "6/6 [==============================] - 0s 4ms/step - loss: 0.0720\n",
            "Epoch 147/500\n",
            "6/6 [==============================] - 0s 4ms/step - loss: 0.0721\n",
            "Epoch 148/500\n",
            "6/6 [==============================] - 0s 3ms/step - loss: 0.0720\n",
            "Epoch 149/500\n",
            "6/6 [==============================] - 0s 3ms/step - loss: 0.0720\n",
            "Epoch 150/500\n",
            "6/6 [==============================] - 0s 4ms/step - loss: 0.0720\n",
            "Epoch 151/500\n",
            "6/6 [==============================] - 0s 3ms/step - loss: 0.0720\n",
            "Epoch 152/500\n",
            "6/6 [==============================] - 0s 4ms/step - loss: 0.0720\n",
            "Epoch 153/500\n",
            "6/6 [==============================] - 0s 6ms/step - loss: 0.0720\n",
            "Epoch 154/500\n",
            "6/6 [==============================] - 0s 4ms/step - loss: 0.0720\n",
            "Epoch 155/500\n",
            "6/6 [==============================] - 0s 3ms/step - loss: 0.0720\n",
            "Epoch 156/500\n",
            "6/6 [==============================] - 0s 3ms/step - loss: 0.0720\n",
            "Epoch 157/500\n",
            "6/6 [==============================] - 0s 4ms/step - loss: 0.0720\n",
            "Epoch 158/500\n",
            "6/6 [==============================] - 0s 4ms/step - loss: 0.0721\n",
            "Epoch 159/500\n",
            "6/6 [==============================] - 0s 3ms/step - loss: 0.0720\n",
            "Epoch 160/500\n",
            "6/6 [==============================] - 0s 4ms/step - loss: 0.0720\n",
            "Epoch 161/500\n",
            "6/6 [==============================] - 0s 3ms/step - loss: 0.0720\n",
            "Epoch 162/500\n",
            "6/6 [==============================] - 0s 4ms/step - loss: 0.0720\n",
            "Epoch 163/500\n",
            "6/6 [==============================] - 0s 4ms/step - loss: 0.0720\n",
            "Epoch 164/500\n",
            "6/6 [==============================] - 0s 4ms/step - loss: 0.0720\n",
            "Epoch 165/500\n",
            "6/6 [==============================] - 0s 3ms/step - loss: 0.0720\n",
            "Epoch 166/500\n",
            "6/6 [==============================] - 0s 4ms/step - loss: 0.0720\n",
            "Epoch 167/500\n",
            "6/6 [==============================] - 0s 3ms/step - loss: 0.0720\n",
            "Epoch 168/500\n",
            "6/6 [==============================] - 0s 3ms/step - loss: 0.0720\n",
            "Epoch 169/500\n",
            "6/6 [==============================] - 0s 4ms/step - loss: 0.0720\n",
            "Epoch 170/500\n",
            "6/6 [==============================] - 0s 3ms/step - loss: 0.0720\n",
            "Epoch 171/500\n",
            "6/6 [==============================] - 0s 3ms/step - loss: 0.0720\n",
            "Epoch 172/500\n",
            "6/6 [==============================] - 0s 3ms/step - loss: 0.0720\n",
            "Epoch 173/500\n",
            "6/6 [==============================] - 0s 4ms/step - loss: 0.0720\n",
            "Epoch 174/500\n",
            "6/6 [==============================] - 0s 4ms/step - loss: 0.0721\n",
            "Epoch 175/500\n",
            "6/6 [==============================] - 0s 3ms/step - loss: 0.0720\n",
            "Epoch 176/500\n",
            "6/6 [==============================] - 0s 3ms/step - loss: 0.0720\n",
            "Epoch 177/500\n",
            "6/6 [==============================] - 0s 4ms/step - loss: 0.0720\n",
            "Epoch 178/500\n",
            "6/6 [==============================] - 0s 6ms/step - loss: 0.0721\n",
            "Epoch 179/500\n",
            "6/6 [==============================] - 0s 5ms/step - loss: 0.0720\n",
            "Epoch 180/500\n",
            "6/6 [==============================] - 0s 4ms/step - loss: 0.0720\n",
            "Epoch 181/500\n",
            "6/6 [==============================] - 0s 3ms/step - loss: 0.0720\n",
            "Epoch 182/500\n",
            "6/6 [==============================] - 0s 3ms/step - loss: 0.0720\n",
            "Epoch 183/500\n",
            "6/6 [==============================] - 0s 3ms/step - loss: 0.0720\n",
            "Epoch 184/500\n",
            "6/6 [==============================] - 0s 3ms/step - loss: 0.0720\n",
            "Epoch 185/500\n",
            "6/6 [==============================] - 0s 4ms/step - loss: 0.0720\n",
            "Epoch 186/500\n",
            "6/6 [==============================] - 0s 4ms/step - loss: 0.0720\n",
            "Epoch 187/500\n",
            "6/6 [==============================] - 0s 3ms/step - loss: 0.0720\n",
            "Epoch 188/500\n",
            "6/6 [==============================] - 0s 3ms/step - loss: 0.0721\n",
            "Epoch 189/500\n",
            "6/6 [==============================] - 0s 4ms/step - loss: 0.0721\n",
            "Epoch 190/500\n",
            "6/6 [==============================] - 0s 3ms/step - loss: 0.0721\n",
            "Epoch 191/500\n",
            "6/6 [==============================] - 0s 4ms/step - loss: 0.0721\n",
            "Epoch 192/500\n",
            "6/6 [==============================] - 0s 4ms/step - loss: 0.0720\n",
            "Epoch 193/500\n",
            "6/6 [==============================] - 0s 4ms/step - loss: 0.0720\n",
            "Epoch 194/500\n",
            "6/6 [==============================] - 0s 5ms/step - loss: 0.0720\n",
            "Epoch 195/500\n",
            "6/6 [==============================] - 0s 4ms/step - loss: 0.0720\n",
            "Epoch 196/500\n",
            "6/6 [==============================] - 0s 4ms/step - loss: 0.0720\n",
            "Epoch 197/500\n",
            "6/6 [==============================] - 0s 4ms/step - loss: 0.0720\n",
            "Epoch 198/500\n",
            "6/6 [==============================] - 0s 4ms/step - loss: 0.0720\n",
            "Epoch 199/500\n",
            "6/6 [==============================] - 0s 3ms/step - loss: 0.0720\n",
            "Epoch 200/500\n",
            "6/6 [==============================] - 0s 4ms/step - loss: 0.0720\n",
            "Epoch 201/500\n",
            "6/6 [==============================] - 0s 3ms/step - loss: 0.0721\n",
            "Epoch 202/500\n",
            "6/6 [==============================] - 0s 4ms/step - loss: 0.0720\n",
            "Epoch 203/500\n",
            "6/6 [==============================] - 0s 4ms/step - loss: 0.0721\n",
            "Epoch 204/500\n",
            "6/6 [==============================] - 0s 4ms/step - loss: 0.0720\n",
            "Epoch 205/500\n",
            "6/6 [==============================] - 0s 4ms/step - loss: 0.0720\n",
            "Epoch 206/500\n",
            "6/6 [==============================] - 0s 4ms/step - loss: 0.0720\n",
            "Epoch 207/500\n",
            "6/6 [==============================] - 0s 4ms/step - loss: 0.0720\n",
            "Epoch 208/500\n",
            "6/6 [==============================] - 0s 4ms/step - loss: 0.0720\n",
            "Epoch 209/500\n",
            "6/6 [==============================] - 0s 4ms/step - loss: 0.0720\n",
            "Epoch 210/500\n",
            "6/6 [==============================] - 0s 4ms/step - loss: 0.0720\n",
            "Epoch 211/500\n",
            "6/6 [==============================] - 0s 4ms/step - loss: 0.0720\n",
            "Epoch 212/500\n",
            "6/6 [==============================] - 0s 4ms/step - loss: 0.0720\n",
            "Epoch 213/500\n",
            "6/6 [==============================] - 0s 5ms/step - loss: 0.0720\n",
            "Epoch 214/500\n",
            "6/6 [==============================] - 0s 5ms/step - loss: 0.0720\n",
            "Epoch 215/500\n",
            "6/6 [==============================] - 0s 4ms/step - loss: 0.0720\n",
            "Epoch 216/500\n",
            "6/6 [==============================] - 0s 4ms/step - loss: 0.0720\n",
            "Epoch 217/500\n",
            "6/6 [==============================] - 0s 4ms/step - loss: 0.0720\n",
            "Epoch 218/500\n",
            "6/6 [==============================] - 0s 3ms/step - loss: 0.0720\n",
            "Epoch 219/500\n",
            "6/6 [==============================] - 0s 4ms/step - loss: 0.0720\n",
            "Epoch 220/500\n",
            "6/6 [==============================] - 0s 3ms/step - loss: 0.0720\n",
            "Epoch 221/500\n",
            "6/6 [==============================] - 0s 3ms/step - loss: 0.0720\n",
            "Epoch 222/500\n",
            "6/6 [==============================] - 0s 3ms/step - loss: 0.0720\n",
            "Epoch 223/500\n",
            "6/6 [==============================] - 0s 3ms/step - loss: 0.0720\n",
            "Epoch 224/500\n",
            "6/6 [==============================] - 0s 4ms/step - loss: 0.0720\n",
            "Epoch 225/500\n",
            "6/6 [==============================] - 0s 3ms/step - loss: 0.0720\n",
            "Epoch 226/500\n",
            "6/6 [==============================] - 0s 4ms/step - loss: 0.0720\n",
            "Epoch 227/500\n",
            "6/6 [==============================] - 0s 3ms/step - loss: 0.0720\n",
            "Epoch 228/500\n",
            "6/6 [==============================] - 0s 5ms/step - loss: 0.0720\n",
            "Epoch 229/500\n",
            "6/6 [==============================] - 0s 4ms/step - loss: 0.0720\n",
            "Epoch 230/500\n",
            "6/6 [==============================] - 0s 3ms/step - loss: 0.0720\n",
            "Epoch 231/500\n",
            "6/6 [==============================] - 0s 3ms/step - loss: 0.0720\n",
            "Epoch 232/500\n",
            "6/6 [==============================] - 0s 4ms/step - loss: 0.0720\n",
            "Epoch 233/500\n",
            "6/6 [==============================] - 0s 4ms/step - loss: 0.0720\n",
            "Epoch 234/500\n",
            "6/6 [==============================] - 0s 4ms/step - loss: 0.0720\n",
            "Epoch 235/500\n",
            "6/6 [==============================] - 0s 3ms/step - loss: 0.0720\n",
            "Epoch 236/500\n",
            "6/6 [==============================] - 0s 3ms/step - loss: 0.0721\n",
            "Epoch 237/500\n",
            "6/6 [==============================] - 0s 3ms/step - loss: 0.0720\n",
            "Epoch 238/500\n",
            "6/6 [==============================] - 0s 3ms/step - loss: 0.0721\n",
            "Epoch 239/500\n",
            "6/6 [==============================] - 0s 4ms/step - loss: 0.0720\n",
            "Epoch 240/500\n",
            "6/6 [==============================] - 0s 3ms/step - loss: 0.0720\n",
            "Epoch 241/500\n",
            "6/6 [==============================] - 0s 4ms/step - loss: 0.0721\n",
            "Epoch 242/500\n",
            "6/6 [==============================] - 0s 4ms/step - loss: 0.0721\n",
            "Epoch 243/500\n",
            "6/6 [==============================] - 0s 4ms/step - loss: 0.0720\n",
            "Epoch 244/500\n",
            "6/6 [==============================] - 0s 3ms/step - loss: 0.0720\n",
            "Epoch 245/500\n",
            "6/6 [==============================] - 0s 3ms/step - loss: 0.0721\n",
            "Epoch 246/500\n",
            "6/6 [==============================] - 0s 4ms/step - loss: 0.0720\n",
            "Epoch 247/500\n",
            "6/6 [==============================] - 0s 4ms/step - loss: 0.0720\n",
            "Epoch 248/500\n",
            "6/6 [==============================] - 0s 4ms/step - loss: 0.0720\n",
            "Epoch 249/500\n",
            "6/6 [==============================] - 0s 6ms/step - loss: 0.0720\n",
            "Epoch 250/500\n",
            "6/6 [==============================] - 0s 4ms/step - loss: 0.0720\n",
            "Epoch 251/500\n",
            "6/6 [==============================] - 0s 4ms/step - loss: 0.0720\n",
            "Epoch 252/500\n",
            "6/6 [==============================] - 0s 4ms/step - loss: 0.0720\n",
            "Epoch 253/500\n",
            "6/6 [==============================] - 0s 4ms/step - loss: 0.0720\n",
            "Epoch 254/500\n",
            "6/6 [==============================] - 0s 3ms/step - loss: 0.0721\n",
            "Epoch 255/500\n",
            "6/6 [==============================] - 0s 4ms/step - loss: 0.0720\n",
            "Epoch 256/500\n",
            "6/6 [==============================] - 0s 4ms/step - loss: 0.0720\n",
            "Epoch 257/500\n",
            "6/6 [==============================] - 0s 4ms/step - loss: 0.0720\n",
            "Epoch 258/500\n",
            "6/6 [==============================] - 0s 4ms/step - loss: 0.0720\n",
            "Epoch 259/500\n",
            "6/6 [==============================] - 0s 4ms/step - loss: 0.0720\n",
            "Epoch 260/500\n",
            "6/6 [==============================] - 0s 4ms/step - loss: 0.0720\n",
            "Epoch 261/500\n",
            "6/6 [==============================] - 0s 4ms/step - loss: 0.0720\n",
            "Epoch 262/500\n",
            "6/6 [==============================] - 0s 4ms/step - loss: 0.0720\n",
            "Epoch 263/500\n",
            "6/6 [==============================] - 0s 5ms/step - loss: 0.0721\n",
            "Epoch 264/500\n",
            "6/6 [==============================] - 0s 4ms/step - loss: 0.0720\n",
            "Epoch 265/500\n",
            "6/6 [==============================] - 0s 4ms/step - loss: 0.0721\n",
            "Epoch 266/500\n",
            "6/6 [==============================] - 0s 4ms/step - loss: 0.0720\n",
            "Epoch 267/500\n",
            "6/6 [==============================] - 0s 4ms/step - loss: 0.0720\n",
            "Epoch 268/500\n",
            "6/6 [==============================] - 0s 3ms/step - loss: 0.0720\n",
            "Epoch 269/500\n",
            "6/6 [==============================] - 0s 4ms/step - loss: 0.0720\n",
            "Epoch 270/500\n",
            "6/6 [==============================] - 0s 4ms/step - loss: 0.0720\n",
            "Epoch 271/500\n",
            "6/6 [==============================] - 0s 3ms/step - loss: 0.0720\n",
            "Epoch 272/500\n",
            "6/6 [==============================] - 0s 4ms/step - loss: 0.0720\n",
            "Epoch 273/500\n",
            "6/6 [==============================] - 0s 4ms/step - loss: 0.0721\n",
            "Epoch 274/500\n",
            "6/6 [==============================] - 0s 4ms/step - loss: 0.0720\n",
            "Epoch 275/500\n",
            "6/6 [==============================] - 0s 4ms/step - loss: 0.0720\n",
            "Epoch 276/500\n",
            "6/6 [==============================] - 0s 4ms/step - loss: 0.0720\n",
            "Epoch 277/500\n",
            "6/6 [==============================] - 0s 3ms/step - loss: 0.0720\n",
            "Epoch 278/500\n",
            "6/6 [==============================] - 0s 4ms/step - loss: 0.0720\n",
            "Epoch 279/500\n",
            "6/6 [==============================] - 0s 4ms/step - loss: 0.0720\n",
            "Epoch 280/500\n",
            "6/6 [==============================] - 0s 4ms/step - loss: 0.0720\n",
            "Epoch 281/500\n",
            "6/6 [==============================] - 0s 3ms/step - loss: 0.0720\n",
            "Epoch 282/500\n",
            "6/6 [==============================] - 0s 4ms/step - loss: 0.0721\n",
            "Epoch 283/500\n",
            "6/6 [==============================] - 0s 4ms/step - loss: 0.0720\n",
            "Epoch 284/500\n",
            "6/6 [==============================] - 0s 5ms/step - loss: 0.0720\n",
            "Epoch 285/500\n",
            "6/6 [==============================] - 0s 4ms/step - loss: 0.0720\n",
            "Epoch 286/500\n",
            "6/6 [==============================] - 0s 5ms/step - loss: 0.0720\n",
            "Epoch 287/500\n",
            "6/6 [==============================] - 0s 4ms/step - loss: 0.0720\n",
            "Epoch 288/500\n",
            "6/6 [==============================] - 0s 3ms/step - loss: 0.0720\n",
            "Epoch 289/500\n",
            "6/6 [==============================] - 0s 3ms/step - loss: 0.0720\n",
            "Epoch 290/500\n",
            "6/6 [==============================] - 0s 3ms/step - loss: 0.0721\n",
            "Epoch 291/500\n",
            "6/6 [==============================] - 0s 4ms/step - loss: 0.0721\n",
            "Epoch 292/500\n",
            "6/6 [==============================] - 0s 4ms/step - loss: 0.0720\n",
            "Epoch 293/500\n",
            "6/6 [==============================] - 0s 3ms/step - loss: 0.0720\n",
            "Epoch 294/500\n",
            "6/6 [==============================] - 0s 4ms/step - loss: 0.0720\n",
            "Epoch 295/500\n",
            "6/6 [==============================] - 0s 4ms/step - loss: 0.0720\n",
            "Epoch 296/500\n",
            "6/6 [==============================] - 0s 4ms/step - loss: 0.0720\n",
            "Epoch 297/500\n",
            "6/6 [==============================] - 0s 4ms/step - loss: 0.0720\n",
            "Epoch 298/500\n",
            "6/6 [==============================] - 0s 4ms/step - loss: 0.0720\n",
            "Epoch 299/500\n",
            "6/6 [==============================] - 0s 3ms/step - loss: 0.0720\n",
            "Epoch 300/500\n",
            "6/6 [==============================] - 0s 4ms/step - loss: 0.0721\n",
            "Epoch 301/500\n",
            "6/6 [==============================] - 0s 4ms/step - loss: 0.0720\n",
            "Epoch 302/500\n",
            "6/6 [==============================] - 0s 4ms/step - loss: 0.0720\n",
            "Epoch 303/500\n",
            "6/6 [==============================] - 0s 4ms/step - loss: 0.0720\n",
            "Epoch 304/500\n",
            "6/6 [==============================] - 0s 4ms/step - loss: 0.0720\n",
            "Epoch 305/500\n",
            "6/6 [==============================] - 0s 4ms/step - loss: 0.0720\n",
            "Epoch 306/500\n",
            "6/6 [==============================] - 0s 5ms/step - loss: 0.0720\n",
            "Epoch 307/500\n",
            "6/6 [==============================] - 0s 4ms/step - loss: 0.0720\n",
            "Epoch 308/500\n",
            "6/6 [==============================] - 0s 4ms/step - loss: 0.0720\n",
            "Epoch 309/500\n",
            "6/6 [==============================] - 0s 4ms/step - loss: 0.0720\n",
            "Epoch 310/500\n",
            "6/6 [==============================] - 0s 4ms/step - loss: 0.0721\n",
            "Epoch 311/500\n",
            "6/6 [==============================] - 0s 5ms/step - loss: 0.0720\n",
            "Epoch 312/500\n",
            "6/6 [==============================] - 0s 4ms/step - loss: 0.0720\n",
            "Epoch 313/500\n",
            "6/6 [==============================] - 0s 4ms/step - loss: 0.0721\n",
            "Epoch 314/500\n",
            "6/6 [==============================] - 0s 5ms/step - loss: 0.0720\n",
            "Epoch 315/500\n",
            "6/6 [==============================] - 0s 4ms/step - loss: 0.0720\n",
            "Epoch 316/500\n",
            "6/6 [==============================] - 0s 4ms/step - loss: 0.0720\n",
            "Epoch 317/500\n",
            "6/6 [==============================] - 0s 5ms/step - loss: 0.0720\n",
            "Epoch 318/500\n",
            "6/6 [==============================] - 0s 3ms/step - loss: 0.0720\n",
            "Epoch 319/500\n",
            "6/6 [==============================] - 0s 4ms/step - loss: 0.0720\n",
            "Epoch 320/500\n",
            "6/6 [==============================] - 0s 3ms/step - loss: 0.0720\n",
            "Epoch 321/500\n",
            "6/6 [==============================] - 0s 4ms/step - loss: 0.0720\n",
            "Epoch 322/500\n",
            "6/6 [==============================] - 0s 4ms/step - loss: 0.0720\n",
            "Epoch 323/500\n",
            "6/6 [==============================] - 0s 4ms/step - loss: 0.0720\n",
            "Epoch 324/500\n",
            "6/6 [==============================] - 0s 4ms/step - loss: 0.0720\n",
            "Epoch 325/500\n",
            "6/6 [==============================] - 0s 4ms/step - loss: 0.0720\n",
            "Epoch 326/500\n",
            "6/6 [==============================] - 0s 4ms/step - loss: 0.0720\n",
            "Epoch 327/500\n",
            "6/6 [==============================] - 0s 4ms/step - loss: 0.0720\n",
            "Epoch 328/500\n",
            "6/6 [==============================] - 0s 4ms/step - loss: 0.0720\n",
            "Epoch 329/500\n",
            "6/6 [==============================] - 0s 4ms/step - loss: 0.0720\n",
            "Epoch 330/500\n",
            "6/6 [==============================] - 0s 3ms/step - loss: 0.0720\n",
            "Epoch 331/500\n",
            "6/6 [==============================] - 0s 4ms/step - loss: 0.0721\n",
            "Epoch 332/500\n",
            "6/6 [==============================] - 0s 4ms/step - loss: 0.0720\n",
            "Epoch 333/500\n",
            "6/6 [==============================] - 0s 4ms/step - loss: 0.0720\n",
            "Epoch 334/500\n",
            "6/6 [==============================] - 0s 5ms/step - loss: 0.0721\n",
            "Epoch 335/500\n",
            "6/6 [==============================] - 0s 5ms/step - loss: 0.0720\n",
            "Epoch 336/500\n",
            "6/6 [==============================] - 0s 4ms/step - loss: 0.0720\n",
            "Epoch 337/500\n",
            "6/6 [==============================] - 0s 4ms/step - loss: 0.0720\n",
            "Epoch 338/500\n",
            "6/6 [==============================] - 0s 5ms/step - loss: 0.0721\n",
            "Epoch 339/500\n",
            "6/6 [==============================] - 0s 6ms/step - loss: 0.0720\n",
            "Epoch 340/500\n",
            "6/6 [==============================] - 0s 6ms/step - loss: 0.0720\n",
            "Epoch 341/500\n",
            "6/6 [==============================] - 0s 6ms/step - loss: 0.0720\n",
            "Epoch 342/500\n",
            "6/6 [==============================] - 0s 5ms/step - loss: 0.0720\n",
            "Epoch 343/500\n",
            "6/6 [==============================] - 0s 5ms/step - loss: 0.0720\n",
            "Epoch 344/500\n",
            "6/6 [==============================] - 0s 5ms/step - loss: 0.0720\n",
            "Epoch 345/500\n",
            "6/6 [==============================] - 0s 5ms/step - loss: 0.0721\n",
            "Epoch 346/500\n",
            "6/6 [==============================] - 0s 5ms/step - loss: 0.0720\n",
            "Epoch 347/500\n",
            "6/6 [==============================] - 0s 5ms/step - loss: 0.0720\n",
            "Epoch 348/500\n",
            "6/6 [==============================] - 0s 4ms/step - loss: 0.0720\n",
            "Epoch 349/500\n",
            "6/6 [==============================] - 0s 5ms/step - loss: 0.0721\n",
            "Epoch 350/500\n",
            "6/6 [==============================] - 0s 6ms/step - loss: 0.0720\n",
            "Epoch 351/500\n",
            "6/6 [==============================] - 0s 7ms/step - loss: 0.0720\n",
            "Epoch 352/500\n",
            "6/6 [==============================] - 0s 4ms/step - loss: 0.0720\n",
            "Epoch 353/500\n",
            "6/6 [==============================] - 0s 4ms/step - loss: 0.0720\n",
            "Epoch 354/500\n",
            "6/6 [==============================] - 0s 4ms/step - loss: 0.0721\n",
            "Epoch 355/500\n",
            "6/6 [==============================] - 0s 4ms/step - loss: 0.0720\n",
            "Epoch 356/500\n",
            "6/6 [==============================] - 0s 6ms/step - loss: 0.0720\n",
            "Epoch 357/500\n",
            "6/6 [==============================] - 0s 4ms/step - loss: 0.0720\n",
            "Epoch 358/500\n",
            "6/6 [==============================] - 0s 4ms/step - loss: 0.0720\n",
            "Epoch 359/500\n",
            "6/6 [==============================] - 0s 4ms/step - loss: 0.0720\n",
            "Epoch 360/500\n",
            "6/6 [==============================] - 0s 4ms/step - loss: 0.0720\n",
            "Epoch 361/500\n",
            "6/6 [==============================] - 0s 5ms/step - loss: 0.0721\n",
            "Epoch 362/500\n",
            "6/6 [==============================] - 0s 5ms/step - loss: 0.0720\n",
            "Epoch 363/500\n",
            "6/6 [==============================] - 0s 4ms/step - loss: 0.0720\n",
            "Epoch 364/500\n",
            "6/6 [==============================] - 0s 4ms/step - loss: 0.0720\n",
            "Epoch 365/500\n",
            "6/6 [==============================] - 0s 6ms/step - loss: 0.0720\n",
            "Epoch 366/500\n",
            "6/6 [==============================] - 0s 5ms/step - loss: 0.0721\n",
            "Epoch 367/500\n",
            "6/6 [==============================] - 0s 6ms/step - loss: 0.0720\n",
            "Epoch 368/500\n",
            "6/6 [==============================] - 0s 6ms/step - loss: 0.0721\n",
            "Epoch 369/500\n",
            "6/6 [==============================] - 0s 5ms/step - loss: 0.0720\n",
            "Epoch 370/500\n",
            "6/6 [==============================] - 0s 4ms/step - loss: 0.0720\n",
            "Epoch 371/500\n",
            "6/6 [==============================] - 0s 4ms/step - loss: 0.0720\n",
            "Epoch 372/500\n",
            "6/6 [==============================] - 0s 5ms/step - loss: 0.0720\n",
            "Epoch 373/500\n",
            "6/6 [==============================] - 0s 5ms/step - loss: 0.0720\n",
            "Epoch 374/500\n",
            "6/6 [==============================] - 0s 5ms/step - loss: 0.0720\n",
            "Epoch 375/500\n",
            "6/6 [==============================] - 0s 5ms/step - loss: 0.0720\n",
            "Epoch 376/500\n",
            "6/6 [==============================] - 0s 4ms/step - loss: 0.0720\n",
            "Epoch 377/500\n",
            "6/6 [==============================] - 0s 4ms/step - loss: 0.0720\n",
            "Epoch 378/500\n",
            "6/6 [==============================] - 0s 5ms/step - loss: 0.0720\n",
            "Epoch 379/500\n",
            "6/6 [==============================] - 0s 6ms/step - loss: 0.0720\n",
            "Epoch 380/500\n",
            "6/6 [==============================] - 0s 6ms/step - loss: 0.0720\n",
            "Epoch 381/500\n",
            "6/6 [==============================] - 0s 5ms/step - loss: 0.0720\n",
            "Epoch 382/500\n",
            "6/6 [==============================] - 0s 5ms/step - loss: 0.0720\n",
            "Epoch 383/500\n",
            "6/6 [==============================] - 0s 5ms/step - loss: 0.0720\n",
            "Epoch 384/500\n",
            "6/6 [==============================] - 0s 6ms/step - loss: 0.0720\n",
            "Epoch 385/500\n",
            "6/6 [==============================] - 0s 5ms/step - loss: 0.0720\n",
            "Epoch 386/500\n",
            "6/6 [==============================] - 0s 6ms/step - loss: 0.0720\n",
            "Epoch 387/500\n",
            "6/6 [==============================] - 0s 6ms/step - loss: 0.0720\n",
            "Epoch 388/500\n",
            "6/6 [==============================] - 0s 5ms/step - loss: 0.0720\n",
            "Epoch 389/500\n",
            "6/6 [==============================] - 0s 5ms/step - loss: 0.0720\n",
            "Epoch 390/500\n",
            "6/6 [==============================] - 0s 4ms/step - loss: 0.0720\n",
            "Epoch 391/500\n",
            "6/6 [==============================] - 0s 7ms/step - loss: 0.0720\n",
            "Epoch 392/500\n",
            "6/6 [==============================] - 0s 5ms/step - loss: 0.0720\n",
            "Epoch 393/500\n",
            "6/6 [==============================] - 0s 6ms/step - loss: 0.0720\n",
            "Epoch 394/500\n",
            "6/6 [==============================] - 0s 5ms/step - loss: 0.0721\n",
            "Epoch 395/500\n",
            "6/6 [==============================] - 0s 6ms/step - loss: 0.0720\n",
            "Epoch 396/500\n",
            "6/6 [==============================] - 0s 6ms/step - loss: 0.0720\n",
            "Epoch 397/500\n",
            "6/6 [==============================] - 0s 5ms/step - loss: 0.0720\n",
            "Epoch 398/500\n",
            "6/6 [==============================] - 0s 5ms/step - loss: 0.0720\n",
            "Epoch 399/500\n",
            "6/6 [==============================] - 0s 4ms/step - loss: 0.0720\n",
            "Epoch 400/500\n",
            "6/6 [==============================] - 0s 4ms/step - loss: 0.0720\n",
            "Epoch 401/500\n",
            "6/6 [==============================] - 0s 4ms/step - loss: 0.0721\n",
            "Epoch 402/500\n",
            "6/6 [==============================] - 0s 4ms/step - loss: 0.0720\n",
            "Epoch 403/500\n",
            "6/6 [==============================] - 0s 4ms/step - loss: 0.0720\n",
            "Epoch 404/500\n",
            "6/6 [==============================] - 0s 4ms/step - loss: 0.0720\n",
            "Epoch 405/500\n",
            "6/6 [==============================] - 0s 5ms/step - loss: 0.0721\n",
            "Epoch 406/500\n",
            "6/6 [==============================] - 0s 5ms/step - loss: 0.0720\n",
            "Epoch 407/500\n",
            "6/6 [==============================] - 0s 5ms/step - loss: 0.0721\n",
            "Epoch 408/500\n",
            "6/6 [==============================] - 0s 5ms/step - loss: 0.0720\n",
            "Epoch 409/500\n",
            "6/6 [==============================] - 0s 4ms/step - loss: 0.0720\n",
            "Epoch 410/500\n",
            "6/6 [==============================] - 0s 6ms/step - loss: 0.0720\n",
            "Epoch 411/500\n",
            "6/6 [==============================] - 0s 5ms/step - loss: 0.0720\n",
            "Epoch 412/500\n",
            "6/6 [==============================] - 0s 4ms/step - loss: 0.0720\n",
            "Epoch 413/500\n",
            "6/6 [==============================] - 0s 4ms/step - loss: 0.0720\n",
            "Epoch 414/500\n",
            "6/6 [==============================] - 0s 4ms/step - loss: 0.0720\n",
            "Epoch 415/500\n",
            "6/6 [==============================] - 0s 4ms/step - loss: 0.0721\n",
            "Epoch 416/500\n",
            "6/6 [==============================] - 0s 4ms/step - loss: 0.0720\n",
            "Epoch 417/500\n",
            "6/6 [==============================] - 0s 4ms/step - loss: 0.0720\n",
            "Epoch 418/500\n",
            "6/6 [==============================] - 0s 5ms/step - loss: 0.0720\n",
            "Epoch 419/500\n",
            "6/6 [==============================] - 0s 4ms/step - loss: 0.0720\n",
            "Epoch 420/500\n",
            "6/6 [==============================] - 0s 4ms/step - loss: 0.0720\n",
            "Epoch 421/500\n",
            "6/6 [==============================] - 0s 4ms/step - loss: 0.0720\n",
            "Epoch 422/500\n",
            "6/6 [==============================] - 0s 6ms/step - loss: 0.0721\n",
            "Epoch 423/500\n",
            "6/6 [==============================] - 0s 5ms/step - loss: 0.0720\n",
            "Epoch 424/500\n",
            "6/6 [==============================] - 0s 4ms/step - loss: 0.0720\n",
            "Epoch 425/500\n",
            "6/6 [==============================] - 0s 5ms/step - loss: 0.0720\n",
            "Epoch 426/500\n",
            "6/6 [==============================] - 0s 5ms/step - loss: 0.0720\n",
            "Epoch 427/500\n",
            "6/6 [==============================] - 0s 6ms/step - loss: 0.0720\n",
            "Epoch 428/500\n",
            "6/6 [==============================] - 0s 5ms/step - loss: 0.0720\n",
            "Epoch 429/500\n",
            "6/6 [==============================] - 0s 4ms/step - loss: 0.0720\n",
            "Epoch 430/500\n",
            "6/6 [==============================] - 0s 4ms/step - loss: 0.0721\n",
            "Epoch 431/500\n",
            "6/6 [==============================] - 0s 4ms/step - loss: 0.0720\n",
            "Epoch 432/500\n",
            "6/6 [==============================] - 0s 4ms/step - loss: 0.0720\n",
            "Epoch 433/500\n",
            "6/6 [==============================] - 0s 5ms/step - loss: 0.0721\n",
            "Epoch 434/500\n",
            "6/6 [==============================] - 0s 5ms/step - loss: 0.0720\n",
            "Epoch 435/500\n",
            "6/6 [==============================] - 0s 5ms/step - loss: 0.0720\n",
            "Epoch 436/500\n",
            "6/6 [==============================] - 0s 5ms/step - loss: 0.0720\n",
            "Epoch 437/500\n",
            "6/6 [==============================] - 0s 4ms/step - loss: 0.0720\n",
            "Epoch 438/500\n",
            "6/6 [==============================] - 0s 4ms/step - loss: 0.0720\n",
            "Epoch 439/500\n",
            "6/6 [==============================] - 0s 4ms/step - loss: 0.0720\n",
            "Epoch 440/500\n",
            "6/6 [==============================] - 0s 4ms/step - loss: 0.0720\n",
            "Epoch 441/500\n",
            "6/6 [==============================] - 0s 4ms/step - loss: 0.0720\n",
            "Epoch 442/500\n",
            "6/6 [==============================] - 0s 5ms/step - loss: 0.0720\n",
            "Epoch 443/500\n",
            "6/6 [==============================] - 0s 5ms/step - loss: 0.0720\n",
            "Epoch 444/500\n",
            "6/6 [==============================] - 0s 4ms/step - loss: 0.0720\n",
            "Epoch 445/500\n",
            "6/6 [==============================] - 0s 4ms/step - loss: 0.0720\n",
            "Epoch 446/500\n",
            "6/6 [==============================] - 0s 4ms/step - loss: 0.0720\n",
            "Epoch 447/500\n",
            "6/6 [==============================] - 0s 4ms/step - loss: 0.0720\n",
            "Epoch 448/500\n",
            "6/6 [==============================] - 0s 4ms/step - loss: 0.0720\n",
            "Epoch 449/500\n",
            "6/6 [==============================] - 0s 4ms/step - loss: 0.0720\n",
            "Epoch 450/500\n",
            "6/6 [==============================] - 0s 4ms/step - loss: 0.0720\n",
            "Epoch 451/500\n",
            "6/6 [==============================] - 0s 4ms/step - loss: 0.0720\n",
            "Epoch 452/500\n",
            "6/6 [==============================] - 0s 4ms/step - loss: 0.0720\n",
            "Epoch 453/500\n",
            "6/6 [==============================] - 0s 4ms/step - loss: 0.0721\n",
            "Epoch 454/500\n",
            "6/6 [==============================] - 0s 4ms/step - loss: 0.0720\n",
            "Epoch 455/500\n",
            "6/6 [==============================] - 0s 6ms/step - loss: 0.0721\n",
            "Epoch 456/500\n",
            "6/6 [==============================] - 0s 6ms/step - loss: 0.0720\n",
            "Epoch 457/500\n",
            "6/6 [==============================] - 0s 5ms/step - loss: 0.0720\n",
            "Epoch 458/500\n",
            "6/6 [==============================] - 0s 6ms/step - loss: 0.0720\n",
            "Epoch 459/500\n",
            "6/6 [==============================] - 0s 5ms/step - loss: 0.0720\n",
            "Epoch 460/500\n",
            "6/6 [==============================] - 0s 5ms/step - loss: 0.0720\n",
            "Epoch 461/500\n",
            "6/6 [==============================] - 0s 5ms/step - loss: 0.0720\n",
            "Epoch 462/500\n",
            "6/6 [==============================] - 0s 5ms/step - loss: 0.0720\n",
            "Epoch 463/500\n",
            "6/6 [==============================] - 0s 5ms/step - loss: 0.0720\n",
            "Epoch 464/500\n",
            "6/6 [==============================] - 0s 5ms/step - loss: 0.0720\n",
            "Epoch 465/500\n",
            "6/6 [==============================] - 0s 5ms/step - loss: 0.0720\n",
            "Epoch 466/500\n",
            "6/6 [==============================] - 0s 6ms/step - loss: 0.0720\n",
            "Epoch 467/500\n",
            "6/6 [==============================] - 0s 5ms/step - loss: 0.0720\n",
            "Epoch 468/500\n",
            "6/6 [==============================] - 0s 4ms/step - loss: 0.0720\n",
            "Epoch 469/500\n",
            "6/6 [==============================] - 0s 4ms/step - loss: 0.0720\n",
            "Epoch 470/500\n",
            "6/6 [==============================] - 0s 5ms/step - loss: 0.0720\n",
            "Epoch 471/500\n",
            "6/6 [==============================] - 0s 6ms/step - loss: 0.0720\n",
            "Epoch 472/500\n",
            "6/6 [==============================] - 0s 4ms/step - loss: 0.0720\n",
            "Epoch 473/500\n",
            "6/6 [==============================] - 0s 5ms/step - loss: 0.0720\n",
            "Epoch 474/500\n",
            "6/6 [==============================] - 0s 4ms/step - loss: 0.0720\n",
            "Epoch 475/500\n",
            "6/6 [==============================] - 0s 4ms/step - loss: 0.0720\n",
            "Epoch 476/500\n",
            "6/6 [==============================] - 0s 4ms/step - loss: 0.0720\n",
            "Epoch 477/500\n",
            "6/6 [==============================] - 0s 4ms/step - loss: 0.0720\n",
            "Epoch 478/500\n",
            "6/6 [==============================] - 0s 4ms/step - loss: 0.0720\n",
            "Epoch 479/500\n",
            "6/6 [==============================] - 0s 4ms/step - loss: 0.0720\n",
            "Epoch 480/500\n",
            "6/6 [==============================] - 0s 5ms/step - loss: 0.0720\n",
            "Epoch 481/500\n",
            "6/6 [==============================] - 0s 5ms/step - loss: 0.0720\n",
            "Epoch 482/500\n",
            "6/6 [==============================] - 0s 4ms/step - loss: 0.0720\n",
            "Epoch 483/500\n",
            "6/6 [==============================] - 0s 5ms/step - loss: 0.0720\n",
            "Epoch 484/500\n",
            "6/6 [==============================] - 0s 4ms/step - loss: 0.0720\n",
            "Epoch 485/500\n",
            "6/6 [==============================] - 0s 5ms/step - loss: 0.0720\n",
            "Epoch 486/500\n",
            "6/6 [==============================] - 0s 4ms/step - loss: 0.0720\n",
            "Epoch 487/500\n",
            "6/6 [==============================] - 0s 5ms/step - loss: 0.0720\n",
            "Epoch 488/500\n",
            "6/6 [==============================] - 0s 6ms/step - loss: 0.0721\n",
            "Epoch 489/500\n",
            "6/6 [==============================] - 0s 5ms/step - loss: 0.0720\n",
            "Epoch 490/500\n",
            "6/6 [==============================] - 0s 5ms/step - loss: 0.0720\n",
            "Epoch 491/500\n",
            "6/6 [==============================] - 0s 5ms/step - loss: 0.0720\n",
            "Epoch 492/500\n",
            "6/6 [==============================] - 0s 5ms/step - loss: 0.0720\n",
            "Epoch 493/500\n",
            "6/6 [==============================] - 0s 5ms/step - loss: 0.0720\n",
            "Epoch 494/500\n",
            "6/6 [==============================] - 0s 6ms/step - loss: 0.0720\n",
            "Epoch 495/500\n",
            "6/6 [==============================] - 0s 5ms/step - loss: 0.0720\n",
            "Epoch 496/500\n",
            "6/6 [==============================] - 0s 4ms/step - loss: 0.0720\n",
            "Epoch 497/500\n",
            "6/6 [==============================] - 0s 4ms/step - loss: 0.0720\n",
            "Epoch 498/500\n",
            "6/6 [==============================] - 0s 4ms/step - loss: 0.0720\n",
            "Epoch 499/500\n",
            "6/6 [==============================] - 0s 4ms/step - loss: 0.0720\n",
            "Epoch 500/500\n",
            "6/6 [==============================] - 0s 4ms/step - loss: 0.0720\n"
          ]
        },
        {
          "output_type": "execute_result",
          "data": {
            "text/plain": [
              "<keras.callbacks.History at 0x7fa73e632dc0>"
            ]
          },
          "metadata": {},
          "execution_count": 26
        }
      ],
      "source": [
        "nb_epoch = 500\n",
        "\n",
        "model.fit(X_train, y_train, epochs=nb_epoch)"
      ]
    },
    {
      "cell_type": "markdown",
      "metadata": {
        "id": "K09yWXpopPUg"
      },
      "source": [
        "Calculate the predicted values"
      ]
    },
    {
      "cell_type": "code",
      "execution_count": 18,
      "metadata": {
        "colab": {
          "base_uri": "https://localhost:8080/"
        },
        "id": "SIThfd6epPUg",
        "outputId": "b5e0d9e5-ca66-4a2d-b50d-90773f84d18f"
      },
      "outputs": [
        {
          "output_type": "stream",
          "name": "stdout",
          "text": [
            "6/6 [==============================] - 1s 4ms/step\n",
            "3/3 [==============================] - 0s 6ms/step\n"
          ]
        },
        {
          "output_type": "stream",
          "name": "stderr",
          "text": [
            "<ipython-input-18-d07942b6599a>:6: FutureWarning: Slicing a positional slice with .loc is not supported, and will raise TypeError in a future version.  Use .loc with labels or .iloc with positions instead.\n",
            "  dataset.loc[1:train_points+1, 'LSTM_train_predict'] = 1+scaler.inverse_transform(y_train_pred)\n",
            "<ipython-input-18-d07942b6599a>:7: FutureWarning: Slicing a positional slice with .loc is not supported, and will raise TypeError in a future version.  Use .loc with labels or .iloc with positions instead.\n",
            "  dataset.loc[train_points+2:, 'LSTM_test_predict'] = 1+scaler.inverse_transform(y_test_pred)\n"
          ]
        }
      ],
      "source": [
        "y_train_pred = model.predict(X_train)\n",
        "y_test_pred = model.predict(X_test)\n",
        "\n",
        "dataset['LSTM_train_predict'] = 1\n",
        "dataset['LSTM_test_predict'] = 1\n",
        "dataset.loc[1:train_points+1, 'LSTM_train_predict'] = 1+scaler.inverse_transform(y_train_pred)\n",
        "dataset.loc[train_points+2:, 'LSTM_test_predict'] = 1+scaler.inverse_transform(y_test_pred)\n",
        "\n",
        "dataset['LSTM_train_predict'] = dataset.iloc[0]['GDP']*dataset['LSTM_train_predict'].cumprod()\n",
        "dataset['LSTM_test_predict'] = dataset.iloc[train_points+1]['GDP']*dataset['LSTM_test_predict'].cumprod()"
      ]
    },
    {
      "cell_type": "code",
      "execution_count": 27,
      "metadata": {
        "colab": {
          "base_uri": "https://localhost:8080/",
          "height": 498
        },
        "id": "ow_xe3W-pPUg",
        "outputId": "d5675451-c21b-49ad-b312-9886276d69da"
      },
      "outputs": [
        {
          "output_type": "display_data",
          "data": {
            "text/plain": [
              "<Figure size 792x576 with 1 Axes>"
            ],
            "image/png": "[encoded data removed]"
          },
          "metadata": {
            "needs_background": "light"
          }
        }
      ],
      "source": [
        "dataset[['GDP', 'RNN_train_predict', 'RNN_test_predict', 'LSTM_train_predict', 'LSTM_test_predict']].plot()\n",
        "plt.gcf().set_size_inches(11, 8)"
      ]
    }
  ],
  "metadata": {
    "kernelspec": {
      "display_name": "Python 3",
      "language": "python",
      "name": "python3"
    },
    "language_info": {
      "codemirror_mode": {
        "name": "ipython",
        "version": 3
      },
      "file_extension": ".py",
      "mimetype": "text/x-python",
      "name": "python",
      "nbconvert_exporter": "python",
      "pygments_lexer": "ipython3",
      "version": "3.7.3"
    },
    "colab": {
      "provenance": []
    }
  },
  "nbformat": 4,
  "nbformat_minor": 0
}